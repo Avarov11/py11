{
 "cells": [
  {
   "cell_type": "code",
   "execution_count": null,
   "id": "3922d1a1",
   "metadata": {},
   "outputs": [],
   "source": [
    "x=2000\n",
    "y=3200\n",
    "list=[]\n",
    "while x<=y:\n",
    "    if x % 7 == 0:\n",
    "        if x % 5 !=0:\n",
    "            list.append(x)\n",
    "\n",
    "    x+=1\n",
    "print(list)"
   ]
  },
  {
   "cell_type": "code",
   "execution_count": 5,
   "id": "79faa726",
   "metadata": {},
   "outputs": [
    {
     "name": "stdout",
     "output_type": "stream",
     "text": [
      "enter64\n",
      "126886932185884164103433389335161480802865516174545192198801894375214704230400000000000000\n"
     ]
    }
   ],
   "source": [
    "x=int(input(\"enter\"))\n",
    "fact=1\n",
    "for i in range(1,x+1):\n",
    "    fact=fact*i\n",
    "print(fact)"
   ]
  },
  {
   "cell_type": "code",
   "execution_count": 3,
   "id": "1bd45bc0",
   "metadata": {},
   "outputs": [
    {
     "name": "stdout",
     "output_type": "stream",
     "text": [
      "enter8\n",
      "{1: 1, 2: 4, 3: 9, 4: 16, 5: 25, 6: 36, 7: 49, 8: 64}\n"
     ]
    }
   ],
   "source": [
    "x=int(input(\"enter\" ))\n",
    "dict={}\n",
    "for i in range(1,x+1):\n",
    "    dict[i]=i*i\n",
    "print(dict)"
   ]
  },
  {
   "cell_type": "code",
   "execution_count": 2,
   "id": "32032950",
   "metadata": {},
   "outputs": [
    {
     "name": "stdout",
     "output_type": "stream",
     "text": [
      "ktten\n",
      "itten\n",
      "kittn\n"
     ]
    }
   ],
   "source": [
    "def x(ch, i):\n",
    "    return ch[:i]+ch[i+1:]\n",
    "\n",
    "print(x('kitten', 1))\n",
    "print(x('kitten', 0))\n",
    "print(x('kitten', 4))"
   ]
  },
  {
   "cell_type": "code",
   "execution_count": 10,
   "id": "9e79d861",
   "metadata": {},
   "outputs": [
    {
     "name": "stdout",
     "output_type": "stream",
     "text": [
      "[[0, 1], [2, 3], [4, 5]]\n"
     ]
    }
   ],
   "source": [
    "import numpy as np\n",
    "x= np.arange(6).reshape(3, 2)\n",
    "print(x.tolist())"
   ]
  },
  {
   "cell_type": "code",
   "execution_count": 11,
   "id": "27ba0b81",
   "metadata": {},
   "outputs": [
    {
     "name": "stdout",
     "output_type": "stream",
     "text": [
      "[[ 1. -1.]\n",
      " [-1.  1.]]\n"
     ]
    }
   ],
   "source": [
    "import numpy as np\n",
    "x = np.array([0, 1, 2])\n",
    "y = np.array([2, 1, 0])\n",
    "print(np.cov(x,y))"
   ]
  },
  {
   "cell_type": "code",
   "execution_count": 2,
   "id": "b53bff73",
   "metadata": {},
   "outputs": [],
   "source": [
    "def formula(*y):\n",
    "    C = 50\n",
    "    H = 30\n",
    "    \n",
    "    results = []\n",
    "    \n",
    "    for d in y:\n",
    "        r = int((2*C*d/H)**(1/2))\n",
    "        results.append(r)\n",
    "        \n",
    "    return results"
   ]
  },
  {
   "cell_type": "code",
   "execution_count": 1,
   "id": "f531083b",
   "metadata": {},
   "outputs": [],
   "source": [
    "def formula(*D):\n",
    "    C = 50\n",
    "    H = 30\n",
    "    \n",
    "    results = []\n",
    "    \n",
    "    for d in D:\n",
    "        r = int((2*C*d/H)**(1/2))\n",
    "        results.append(r)\n",
    "        \n",
    "    return results"
   ]
  },
  {
   "cell_type": "code",
   "execution_count": 3,
   "id": "d31daa5a",
   "metadata": {},
   "outputs": [
    {
     "data": {
      "text/plain": [
       "[18, 22, 24]"
      ]
     },
     "execution_count": 3,
     "metadata": {},
     "output_type": "execute_result"
    }
   ],
   "source": [
    "formula(100, 150, 180)"
   ]
  },
  {
   "cell_type": "code",
   "execution_count": null,
   "id": "4f2a01b4",
   "metadata": {},
   "outputs": [],
   "source": []
  }
 ],
 "metadata": {
  "kernelspec": {
   "display_name": "Python 3 (ipykernel)",
   "language": "python",
   "name": "python3"
  },
  "language_info": {
   "codemirror_mode": {
    "name": "ipython",
    "version": 3
   },
   "file_extension": ".py",
   "mimetype": "text/x-python",
   "name": "python",
   "nbconvert_exporter": "python",
   "pygments_lexer": "ipython3",
   "version": "3.9.12"
  }
 },
 "nbformat": 4,
 "nbformat_minor": 5
}
